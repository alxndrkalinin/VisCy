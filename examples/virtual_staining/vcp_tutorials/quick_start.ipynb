{
 "cells": [
  {
   "cell_type": "markdown",
   "id": "a5b78b22",
   "metadata": {
    "cell_marker": "\"\"\""
   },
   "source": [
    "# Quick Start: 2D Virtual Staining of A549 Cells\n",
    "\n",
    "**Estimated time to complete:** 15 minutes"
   ]
  },
  {
   "cell_type": "markdown",
   "id": "7945bca8",
   "metadata": {
    "cell_marker": "\"\"\""
   },
   "source": [
    "# Learning Goals\n",
    "\n",
    "* Download the VSCyto2D model.\n",
    "* Predict nuclei and plasma membrane from quantitative phase."
   ]
  },
  {
   "cell_type": "markdown",
   "id": "bcac596b",
   "metadata": {
    "cell_marker": "\"\"\""
   },
   "source": [
    "# Prerequisites\n",
    "Python>=3.10"
   ]
  },
  {
   "cell_type": "markdown",
   "id": "9102eb78",
   "metadata": {
    "cell_marker": "\"\"\""
   },
   "source": [
    "# Introduction\n",
    "\n",
    "## Model\n",
    "\n",
    "The VSCyto2D model is a 2D U-Net that predicts and cell nuclei and plasma membrane\n",
    "from quantitative label-free images such as quantitative phase, Zernike phase, and brightfield.\n",
    "It has been trained on A549, HEK293T, and BJ-5ta cells.\n",
    "\n",
    "## Example Dataset\n",
    "\n",
    "The example dataset contains quantitative phase and paired nuclei and plasma membrane fluorescence images of A549 cells.\n",
    "It is stored in OME-Zarr format and can be downloaded from\n",
    "[here](https://public.czbiohub.org/comp.micro/viscy/VS_datasets/VSCyto2D/test/a549_hoechst_cellmask_test.zarr).\n",
    "It has pre-computed statistics for normalization, generated using the `viscy preprocess` CLI.\n",
    "\n",
    "Refer to our [preprint](https://doi.org/10.1101/2024.05.31.596901) for more details\n",
    "about how the dataset and model were generated."
   ]
  },
  {
   "cell_type": "markdown",
   "id": "64f895d9",
   "metadata": {
    "cell_marker": "\"\"\""
   },
   "source": [
    "# Setup\n",
    "\n",
    "The commands below will install the required packages and download the example dataset and model checkpoint.\n",
    "It may take a few minutes to download all the files.\n",
    "Assuming a Unix-like shell."
   ]
  },
  {
   "cell_type": "code",
   "execution_count": null,
   "id": "66531eeb",
   "metadata": {},
   "outputs": [],
   "source": [
    "# Install VisCy with the optional dependencies for this example\n",
    "# See the [repository](https://github.com/mehta-lab/VisCy) for more details\n",
    "!pip install \"viscy[metrics,visual]==0.3.0rc2\""
   ]
  },
  {
   "cell_type": "code",
   "execution_count": null,
   "id": "9e551b69",
   "metadata": {},
   "outputs": [],
   "source": [
    "# Validate installation\n",
    "!viscy --help"
   ]
  },
  {
   "cell_type": "code",
   "execution_count": null,
   "id": "da3f9ee8",
   "metadata": {},
   "outputs": [],
   "source": [
    "# Download the example dataset\n",
    "!wget -m -np -nH --cut-dirs=5 -R \"index.html*\" \"https://public.czbiohub.org/comp.micro/viscy/VS_datasets/VSCyto2D/test/a549_hoechst_cellmask_test.zarr/\"\n",
    "# Download the model checkpoint\n",
    "!wget https://public.czbiohub.org/comp.micro/viscy/VS_models/VSCyto2D/VSCyto2D/epoch=399-step=23200.ckpt"
   ]
  },
  {
   "cell_type": "markdown",
   "id": "862a5334",
   "metadata": {
    "cell_marker": "\"\"\""
   },
   "source": [
    "# Run Model Inference\n",
    "\n",
    "The following code will run inference on a single field of view (FOV) of the example dataset.\n",
    "This can also be achieved by using the VisCy CLI."
   ]
  },
  {
   "cell_type": "code",
   "execution_count": null,
   "id": "1c08b6fa",
   "metadata": {},
   "outputs": [],
   "source": [
    "from pathlib import Path\n",
    "\n",
    "from iohub import open_ome_zarr\n",
    "from torchview import draw_graph\n",
    "\n",
    "from viscy.data.hcs import HCSDataModule\n",
    "from viscy.trainer import VisCyTrainer\n",
    "from viscy.transforms import NormalizeSampled\n",
    "from viscy.translation.engine import FcmaeUNet\n",
    "from viscy.translation.predict_writer import HCSPredictionWriter"
   ]
  },
  {
   "cell_type": "code",
   "execution_count": null,
   "id": "126a92c9",
   "metadata": {},
   "outputs": [],
   "source": [
    "# TODO: Set download paths, by default the working directory is used\n",
    "root_dir = Path()\n",
    "# TODO: modify the path to the downloaded dataset\n",
    "input_data_path = root_dir / \"a549_hoechst_cellmask_test.zarr\"\n",
    "# TODO: modify the path to the downloaded checkpoint\n",
    "model_ckpt_path = root_dir / \"epoch=399-step=23200.ckpt\"\n",
    "# TODO: modify the path\n",
    "# Zarr store to save the predictions\n",
    "output_path = root_dir / \"a549_prediction.zarr\"\n",
    "# TODO: Choose an FOV\n",
    "fov = \"0/0/0\"\n",
    "\n",
    "input_data_path = input_data_path / fov"
   ]
  },
  {
   "cell_type": "code",
   "execution_count": null,
   "id": "faf7344e",
   "metadata": {},
   "outputs": [],
   "source": [
    "# Create the VSCyto2D network\n",
    "\n",
    "# Reduce the batch size if encountering out-of-memory errors\n",
    "BATCH_SIZE = 8\n",
    "# NOTE: Set the number of workers to 0 for Windows and macOS\n",
    "# since multiprocessing only works with a\n",
    "# `if __name__ == '__main__':` guard.\n",
    "# On Linux, set it to the number of CPU cores to maximize performance.\n",
    "NUM_WORKERS = 0\n",
    "phase_channel_name = \"Phase3D\""
   ]
  },
  {
   "cell_type": "code",
   "execution_count": null,
   "id": "367241dc",
   "metadata": {},
   "outputs": [],
   "source": [
    "# See API documentation for more details. For example:\n",
    "?HCSDataModule"
   ]
  },
  {
   "cell_type": "code",
   "execution_count": null,
   "id": "e1c7bb2f",
   "metadata": {
    "lines_to_next_cell": 0
   },
   "outputs": [],
   "source": [
    "# Setup the data module.\n",
    "data_module = HCSDataModule(\n",
    "    data_path=input_data_path,\n",
    "    source_channel=phase_channel_name,\n",
    "    target_channel=[\"Membrane\", \"Nuclei\"],\n",
    "    z_window_size=1,\n",
    "    split_ratio=0.8,\n",
    "    batch_size=BATCH_SIZE,\n",
    "    num_workers=NUM_WORKERS,\n",
    "    normalizations=[\n",
    "        NormalizeSampled(\n",
    "            [phase_channel_name],\n",
    "            level=\"fov_statistics\",\n",
    "            subtrahend=\"median\",\n",
    "            divisor=\"iqr\",\n",
    "        )\n",
    "    ],\n",
    ")\n",
    "data_module.prepare_data()\n",
    "data_module.setup(stage=\"predict\")"
   ]
  },
  {
   "cell_type": "code",
   "execution_count": null,
   "id": "78921228",
   "metadata": {},
   "outputs": [],
   "source": [
    "# Setup the model.\n",
    "# Dictionary that specifies key parameters of the model.\n",
    "config_VSCyto2D = {\n",
    "    \"in_channels\": 1,\n",
    "    \"out_channels\": 2,\n",
    "    \"encoder_blocks\": [3, 3, 9, 3],\n",
    "    \"dims\": [96, 192, 384, 768],\n",
    "    \"decoder_conv_blocks\": 2,\n",
    "    \"stem_kernel_size\": [1, 2, 2],\n",
    "    \"in_stack_depth\": 1,\n",
    "    \"pretraining\": False,\n",
    "}\n",
    "\n",
    "model_VSCyto2D = FcmaeUNet.load_from_checkpoint(\n",
    "    model_ckpt_path, model_config=config_VSCyto2D\n",
    ")\n",
    "model_VSCyto2D = model_VSCyto2D.eval()"
   ]
  },
  {
   "cell_type": "code",
   "execution_count": null,
   "id": "8bf92bcd",
   "metadata": {},
   "outputs": [],
   "source": [
    "# Visualize the model graph\n",
    "model_graph = draw_graph(\n",
    "    model_VSCyto2D,\n",
    "    (model_VSCyto2D.example_input_array),\n",
    "    graph_name=\"VSCyto2D\",\n",
    "    roll=True,\n",
    "    depth=3,\n",
    "    expand_nested=True,\n",
    ")\n",
    "\n",
    "fcmae = model_graph.visual_graph\n",
    "fcmae"
   ]
  },
  {
   "cell_type": "code",
   "execution_count": null,
   "id": "34af7266",
   "metadata": {},
   "outputs": [],
   "source": [
    "# Setup the Trainer\n",
    "trainer = VisCyTrainer(callbacks=[HCSPredictionWriter(output_path)])\n",
    "\n",
    "# Start the predictions\n",
    "trainer.predict(\n",
    "    model=model_VSCyto2D,\n",
    "    datamodule=data_module,\n",
    "    return_predictions=False,\n",
    ")"
   ]
  },
  {
   "cell_type": "markdown",
   "id": "20081d17",
   "metadata": {
    "cell_marker": "\"\"\""
   },
   "source": [
    "# Model Outputs\n",
    "\n",
    "The model outputs are also stored in an OME-Zarr store.\n",
    "It can be visualized in an image viewer such as [napari](https://napari.org/).\n",
    "Below we show a snapshot in the notebook."
   ]
  },
  {
   "cell_type": "code",
   "execution_count": null,
   "id": "b16c8d28",
   "metadata": {},
   "outputs": [],
   "source": [
    "# Open the output_zarr store and inspect the output\n",
    "# Show the individual channels and the fused in a 1x3 plot\n",
    "\n",
    "# Open the predicted data\n",
    "vs_store = open_ome_zarr(output_path / fov, mode=\"r\")\n",
    "# Get the 2D images\n",
    "vs_nucleus = vs_store[0][0, 0, 0]  # (t,c,z,y,x)\n",
    "vs_membrane = vs_store[0][0, 1, 0]  # (t,c,z,y,x)\n",
    "# Open the experimental fluorescence dataset\n",
    "fluor_store = open_ome_zarr(input_data_path, mode=\"r\")\n",
    "# Get the 2D images\n",
    "# NOTE: Channel indeces hardcoded for this dataset\n",
    "fluor_nucleus = fluor_store[0][0, 1, 0]  # (t,c,z,y,x)\n",
    "fluor_membrane = fluor_store[0][0, 2, 0]  # (t,c,z,y,x)\n",
    "\n",
    "# Plot\n",
    "import matplotlib.pyplot as plt\n",
    "import numpy as np\n",
    "from cmap import Colormap\n",
    "from skimage.exposure import rescale_intensity\n",
    "\n",
    "\n",
    "def render_rgb(image: np.ndarray, colormap: Colormap):\n",
    "    image = rescale_intensity(image, out_range=(0, 1))\n",
    "    image = colormap(image)\n",
    "    return image\n",
    "\n",
    "\n",
    "vs_nucleus_rgb = render_rgb(vs_nucleus, Colormap(\"bop_blue\"))\n",
    "vs_membrane_rgb = render_rgb(vs_membrane, Colormap(\"bop_orange\"))\n",
    "merged_vs = (vs_nucleus_rgb + vs_membrane_rgb).clip(0, 1)\n",
    "\n",
    "fluor_nucleus_rgb = render_rgb(fluor_nucleus, Colormap(\"green\"))\n",
    "fluor_membrane_rgb = render_rgb(fluor_membrane, Colormap(\"magenta\"))\n",
    "merged_fluor = (fluor_nucleus_rgb + fluor_membrane_rgb).clip(0, 1)\n",
    "\n",
    "# Plot\n",
    "fig, ax = plt.subplots(2, 3, figsize=(15, 10))\n",
    "\n",
    "# Virtual staining plots\n",
    "ax[0, 0].imshow(vs_nucleus_rgb)\n",
    "ax[0, 0].set_title(\"VS Nuclei\")\n",
    "ax[0, 1].imshow(vs_membrane_rgb)\n",
    "ax[0, 1].set_title(\"VS Membrane\")\n",
    "ax[0, 2].imshow(merged_vs)\n",
    "ax[0, 2].set_title(\"VS Nuclei+Membrane\")\n",
    "\n",
    "# Experimental fluorescence plots\n",
    "ax[1, 0].imshow(fluor_nucleus_rgb)\n",
    "ax[1, 0].set_title(\"Experimental Fluorescence Nuclei\")\n",
    "ax[1, 1].imshow(fluor_membrane_rgb)\n",
    "ax[1, 1].set_title(\"Experimental Fluorescence Membrane\")\n",
    "ax[1, 2].imshow(merged_fluor)\n",
    "ax[1, 2].set_title(\"Experimental Fluorescence Nuclei+Membrane\")\n",
    "\n",
    "# turnoff axis\n",
    "for a in ax.flatten():\n",
    "    a.axis(\"off\")\n",
    "plt.margins(0, 0)\n",
    "plt.tight_layout()\n",
    "plt.show()\n",
    "\n",
    "\n",
    "vs_store.close()\n",
    "fluor_store.close()"
   ]
  }
 ],
 "metadata": {
  "jupytext": {
   "cell_metadata_filter": "all",
   "main_language": "python"
  }
 },
 "nbformat": 4,
 "nbformat_minor": 5
}
